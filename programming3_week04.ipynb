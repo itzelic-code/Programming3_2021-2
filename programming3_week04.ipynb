{
 "cells": [
  {
   "cell_type": "code",
   "execution_count": 50,
   "metadata": {},
   "outputs": [],
   "source": [
    "import pandas as pd\n",
    "import numpy as np"
   ]
  },
  {
   "cell_type": "markdown",
   "metadata": {},
   "source": [
    "1. movie 데이터의 크기를 줄여봅시다."
   ]
  },
  {
   "cell_type": "code",
   "execution_count": 51,
   "metadata": {},
   "outputs": [
    {
     "name": "stdout",
     "output_type": "stream",
     "text": [
      "<class 'pandas.core.frame.DataFrame'>\n",
      "RangeIndex: 4916 entries, 0 to 4915\n",
      "Data columns (total 28 columns):\n",
      " #   Column                     Non-Null Count  Dtype  \n",
      "---  ------                     --------------  -----  \n",
      " 0   color                      4897 non-null   object \n",
      " 1   director_name              4814 non-null   object \n",
      " 2   num_critic_for_reviews     4867 non-null   float64\n",
      " 3   duration                   4901 non-null   float64\n",
      " 4   director_facebook_likes    4814 non-null   float64\n",
      " 5   actor_3_facebook_likes     4893 non-null   float64\n",
      " 6   actor_2_name               4903 non-null   object \n",
      " 7   actor_1_facebook_likes     4909 non-null   float64\n",
      " 8   gross                      4054 non-null   float64\n",
      " 9   genres                     4916 non-null   object \n",
      " 10  actor_1_name               4909 non-null   object \n",
      " 11  movie_title                4916 non-null   object \n",
      " 12  num_voted_users            4916 non-null   int64  \n",
      " 13  cast_total_facebook_likes  4916 non-null   int64  \n",
      " 14  actor_3_name               4893 non-null   object \n",
      " 15  facenumber_in_poster       4903 non-null   float64\n",
      " 16  plot_keywords              4764 non-null   object \n",
      " 17  movie_imdb_link            4916 non-null   object \n",
      " 18  num_user_for_reviews       4895 non-null   float64\n",
      " 19  language                   4904 non-null   object \n",
      " 20  country                    4911 non-null   object \n",
      " 21  content_rating             4616 non-null   object \n",
      " 22  budget                     4432 non-null   float64\n",
      " 23  title_year                 4810 non-null   float64\n",
      " 24  actor_2_facebook_likes     4903 non-null   float64\n",
      " 25  imdb_score                 4916 non-null   float64\n",
      " 26  aspect_ratio               4590 non-null   float64\n",
      " 27  movie_facebook_likes       4916 non-null   int64  \n",
      "dtypes: float64(13), int64(3), object(12)\n",
      "memory usage: 1.1+ MB\n"
     ]
    }
   ],
   "source": [
    "movie = pd.read_csv('data/movie.csv')\n",
    "movie.info()"
   ]
  },
  {
   "cell_type": "code",
   "execution_count": 52,
   "metadata": {},
   "outputs": [
    {
     "name": "stdout",
     "output_type": "stream",
     "text": [
      "<class 'pandas.core.frame.DataFrame'>\n",
      "RangeIndex: 4916 entries, 0 to 4915\n",
      "Data columns (total 11 columns):\n",
      " #   Column                   Non-Null Count  Dtype  \n",
      "---  ------                   --------------  -----  \n",
      " 0   color                    4916 non-null   object \n",
      " 1   director_name            4916 non-null   object \n",
      " 2   num_critic_for_reviews   4916 non-null   float64\n",
      " 3   duration                 4916 non-null   float64\n",
      " 4   director_facebook_likes  4916 non-null   float64\n",
      " 5   actor_3_facebook_likes   4916 non-null   float64\n",
      " 6   actor_2_name             4916 non-null   object \n",
      " 7   actor_1_facebook_likes   4916 non-null   float64\n",
      " 8   gross                    4916 non-null   float64\n",
      " 9   genres                   4916 non-null   object \n",
      " 10  actor_1_name             4916 non-null   object \n",
      "dtypes: float64(6), object(5)\n",
      "memory usage: 422.6+ KB\n"
     ]
    }
   ],
   "source": [
    "movie1 = movie.iloc[:, :11].fillna(0)\n",
    "movie1.info()"
   ]
  },
  {
   "cell_type": "code",
   "execution_count": 53,
   "metadata": {},
   "outputs": [
    {
     "data": {
      "text/plain": [
       "Index                         128\n",
       "color                      306262\n",
       "director_name              343388\n",
       "num_critic_for_reviews      39328\n",
       "duration                    39328\n",
       "director_facebook_likes     39328\n",
       "actor_3_facebook_likes      39328\n",
       "actor_2_name               346635\n",
       "actor_1_facebook_likes      39328\n",
       "gross                       39328\n",
       "genres                     379929\n",
       "actor_1_name               346599\n",
       "dtype: int64"
      ]
     },
     "execution_count": 53,
     "metadata": {},
     "output_type": "execute_result"
    }
   ],
   "source": [
    "movie1.memory_usage(deep=True)"
   ]
  },
  {
   "cell_type": "code",
   "execution_count": 54,
   "metadata": {},
   "outputs": [
    {
     "data": {
      "text/plain": [
       "iinfo(min=-32768, max=32767, dtype=int16)"
      ]
     },
     "execution_count": 54,
     "metadata": {},
     "output_type": "execute_result"
    }
   ],
   "source": [
    "np.iinfo('int16')"
   ]
  },
  {
   "cell_type": "code",
   "execution_count": 58,
   "metadata": {},
   "outputs": [],
   "source": [
    "movie1['color'] = movie1['color'].astype('category')\n",
    "movie1['director_name'] = movie1['director_name'].astype('category')\n",
    "movie1['num_critic_for_reviews'] = movie1['num_critic_for_reviews'].astype(np.float16)\n",
    "movie1['duration'] = movie1['duration'].astype(np.float16)\n",
    "movie1['director_facebook_likes'] = movie1['director_facebook_likes'].astype(np.float16)\n",
    "movie1['actor_3_facebook_likes'] = movie1['actor_3_facebook_likes'].astype(np.float16)\n",
    "movie1['actor_2_name'] = movie1['actor_2_name'].astype('category')\n",
    "movie1['actor_1_facebook_likes'] = movie1['actor_1_facebook_likes'].astype(np.float16)\n",
    "movie1['gross'] = movie1['gross'].astype(np.float16)\n",
    "movie1['genres'] = movie1['genres'].astype('category')\n",
    "movie1['actor_1_name'] = movie1['actor_1_name'].astype('category')"
   ]
  },
  {
   "cell_type": "code",
   "execution_count": 59,
   "metadata": {},
   "outputs": [
    {
     "data": {
      "text/plain": [
       "Index                         128\n",
       "color                        5162\n",
       "director_name              261646\n",
       "num_critic_for_reviews       9832\n",
       "duration                     9832\n",
       "director_facebook_likes      9832\n",
       "actor_3_facebook_likes       9832\n",
       "actor_2_name               306484\n",
       "actor_1_facebook_likes       9832\n",
       "gross                        9832\n",
       "genres                     128998\n",
       "actor_1_name               239979\n",
       "dtype: int64"
      ]
     },
     "execution_count": 59,
     "metadata": {},
     "output_type": "execute_result"
    }
   ],
   "source": [
    "movie1.memory_usage(deep=True)"
   ]
  },
  {
   "cell_type": "code",
   "execution_count": null,
   "metadata": {},
   "outputs": [],
   "source": []
  },
  {
   "cell_type": "markdown",
   "metadata": {},
   "source": [
    "2. college 데이터에서 USDS의 최대값을 구하는데 도시별로.\n",
    "-> INSTNM, CITY, UGDS"
   ]
  },
  {
   "cell_type": "code",
   "execution_count": 103,
   "metadata": {},
   "outputs": [
    {
     "data": {
      "text/html": [
       "<div>\n",
       "<style scoped>\n",
       "    .dataframe tbody tr th:only-of-type {\n",
       "        vertical-align: middle;\n",
       "    }\n",
       "\n",
       "    .dataframe tbody tr th {\n",
       "        vertical-align: top;\n",
       "    }\n",
       "\n",
       "    .dataframe thead th {\n",
       "        text-align: right;\n",
       "    }\n",
       "</style>\n",
       "<table border=\"1\" class=\"dataframe\">\n",
       "  <thead>\n",
       "    <tr style=\"text-align: right;\">\n",
       "      <th></th>\n",
       "      <th>INSTNM</th>\n",
       "      <th>CITY</th>\n",
       "      <th>UGDS</th>\n",
       "    </tr>\n",
       "  </thead>\n",
       "  <tbody>\n",
       "    <tr>\n",
       "      <th>2916</th>\n",
       "      <td>Zane State College</td>\n",
       "      <td>Zanesville</td>\n",
       "      <td>2063.0</td>\n",
       "    </tr>\n",
       "    <tr>\n",
       "      <th>83</th>\n",
       "      <td>Arizona Western College</td>\n",
       "      <td>Yuma</td>\n",
       "      <td>7218.0</td>\n",
       "    </tr>\n",
       "    <tr>\n",
       "      <th>4833</th>\n",
       "      <td>Yukon Beauty College Inc</td>\n",
       "      <td>Yukon</td>\n",
       "      <td>25.0</td>\n",
       "    </tr>\n",
       "    <tr>\n",
       "      <th>6561</th>\n",
       "      <td>Elite Cosmetology School</td>\n",
       "      <td>Yucca Valley</td>\n",
       "      <td>91.0</td>\n",
       "    </tr>\n",
       "    <tr>\n",
       "      <th>296</th>\n",
       "      <td>Crafton Hills College</td>\n",
       "      <td>Yucaipa</td>\n",
       "      <td>5152.0</td>\n",
       "    </tr>\n",
       "    <tr>\n",
       "      <th>...</th>\n",
       "      <td>...</td>\n",
       "      <td>...</td>\n",
       "      <td>...</td>\n",
       "    </tr>\n",
       "    <tr>\n",
       "      <th>3307</th>\n",
       "      <td>Pennsylvania State University-Penn State Abington</td>\n",
       "      <td>Abington</td>\n",
       "      <td>3505.0</td>\n",
       "    </tr>\n",
       "    <tr>\n",
       "      <th>3926</th>\n",
       "      <td>Virginia Highlands Community College</td>\n",
       "      <td>Abingdon</td>\n",
       "      <td>1703.0</td>\n",
       "    </tr>\n",
       "    <tr>\n",
       "      <th>3610</th>\n",
       "      <td>Abilene Christian University</td>\n",
       "      <td>Abilene</td>\n",
       "      <td>3572.0</td>\n",
       "    </tr>\n",
       "    <tr>\n",
       "      <th>3492</th>\n",
       "      <td>Northern State University</td>\n",
       "      <td>Aberdeen</td>\n",
       "      <td>1693.0</td>\n",
       "    </tr>\n",
       "    <tr>\n",
       "      <th>6241</th>\n",
       "      <td>Angeles Institute</td>\n",
       "      <td>ARTESIA</td>\n",
       "      <td>114.0</td>\n",
       "    </tr>\n",
       "  </tbody>\n",
       "</table>\n",
       "<p>2514 rows × 3 columns</p>\n",
       "</div>"
      ],
      "text/plain": [
       "                                                 INSTNM          CITY    UGDS\n",
       "2916                                 Zane State College    Zanesville  2063.0\n",
       "83                              Arizona Western College          Yuma  7218.0\n",
       "4833                           Yukon Beauty College Inc         Yukon    25.0\n",
       "6561                           Elite Cosmetology School  Yucca Valley    91.0\n",
       "296                               Crafton Hills College       Yucaipa  5152.0\n",
       "...                                                 ...           ...     ...\n",
       "3307  Pennsylvania State University-Penn State Abington      Abington  3505.0\n",
       "3926               Virginia Highlands Community College      Abingdon  1703.0\n",
       "3610                       Abilene Christian University       Abilene  3572.0\n",
       "3492                          Northern State University      Aberdeen  1693.0\n",
       "6241                                  Angeles Institute       ARTESIA   114.0\n",
       "\n",
       "[2514 rows x 3 columns]"
      ]
     },
     "execution_count": 103,
     "metadata": {},
     "output_type": "execute_result"
    }
   ],
   "source": [
    "college = pd.read_csv('data/college.csv')\n",
    "college.UGDS.isna().sum()\n",
    "college2 = college[['INSTNM', 'CITY', 'UGDS']]\n",
    "college2.sort_values(['CITY', 'UGDS'], ascending=False).drop_duplicates(subset='CITY')"
   ]
  },
  {
   "cell_type": "code",
   "execution_count": null,
   "metadata": {},
   "outputs": [],
   "source": []
  },
  {
   "cell_type": "markdown",
   "metadata": {},
   "source": [
    "3. 주별, RELAFFIL 별 UGDS의 최대값을 구하라\n",
    "-> INSTNM, STABBER, RELAFFIL, UGDS"
   ]
  },
  {
   "cell_type": "code",
   "execution_count": 106,
   "metadata": {},
   "outputs": [
    {
     "data": {
      "text/html": [
       "<div>\n",
       "<style scoped>\n",
       "    .dataframe tbody tr th:only-of-type {\n",
       "        vertical-align: middle;\n",
       "    }\n",
       "\n",
       "    .dataframe tbody tr th {\n",
       "        vertical-align: top;\n",
       "    }\n",
       "\n",
       "    .dataframe thead th {\n",
       "        text-align: right;\n",
       "    }\n",
       "</style>\n",
       "<table border=\"1\" class=\"dataframe\">\n",
       "  <thead>\n",
       "    <tr style=\"text-align: right;\">\n",
       "      <th></th>\n",
       "      <th>INSTNM</th>\n",
       "      <th>RELAFFIL</th>\n",
       "      <th>UGDS</th>\n",
       "      <th>STABBR</th>\n",
       "    </tr>\n",
       "  </thead>\n",
       "  <tbody>\n",
       "    <tr>\n",
       "      <th>0</th>\n",
       "      <td>Alabama A &amp; M University</td>\n",
       "      <td>0</td>\n",
       "      <td>4206.0</td>\n",
       "      <td>AL</td>\n",
       "    </tr>\n",
       "    <tr>\n",
       "      <th>1</th>\n",
       "      <td>University of Alabama at Birmingham</td>\n",
       "      <td>0</td>\n",
       "      <td>11383.0</td>\n",
       "      <td>AL</td>\n",
       "    </tr>\n",
       "    <tr>\n",
       "      <th>2</th>\n",
       "      <td>Amridge University</td>\n",
       "      <td>1</td>\n",
       "      <td>291.0</td>\n",
       "      <td>AL</td>\n",
       "    </tr>\n",
       "    <tr>\n",
       "      <th>3</th>\n",
       "      <td>University of Alabama in Huntsville</td>\n",
       "      <td>0</td>\n",
       "      <td>5451.0</td>\n",
       "      <td>AL</td>\n",
       "    </tr>\n",
       "    <tr>\n",
       "      <th>4</th>\n",
       "      <td>Alabama State University</td>\n",
       "      <td>0</td>\n",
       "      <td>4811.0</td>\n",
       "      <td>AL</td>\n",
       "    </tr>\n",
       "  </tbody>\n",
       "</table>\n",
       "</div>"
      ],
      "text/plain": [
       "                                INSTNM  RELAFFIL     UGDS STABBR\n",
       "0             Alabama A & M University         0   4206.0     AL\n",
       "1  University of Alabama at Birmingham         0  11383.0     AL\n",
       "2                   Amridge University         1    291.0     AL\n",
       "3  University of Alabama in Huntsville         0   5451.0     AL\n",
       "4             Alabama State University         0   4811.0     AL"
      ]
     },
     "execution_count": 106,
     "metadata": {},
     "output_type": "execute_result"
    }
   ],
   "source": [
    "college = pd.read_csv('data/college.csv')\n",
    "college.UGDS.isna().sum()\n",
    "cols = ['INSTNM',  'RELAFFIL',  'UGDS', 'STABBR']\n",
    "college3 = college.loc[:, cols]\n",
    "college3.head()"
   ]
  },
  {
   "cell_type": "code",
   "execution_count": 113,
   "metadata": {},
   "outputs": [
    {
     "data": {
      "text/html": [
       "<div>\n",
       "<style scoped>\n",
       "    .dataframe tbody tr th:only-of-type {\n",
       "        vertical-align: middle;\n",
       "    }\n",
       "\n",
       "    .dataframe tbody tr th {\n",
       "        vertical-align: top;\n",
       "    }\n",
       "\n",
       "    .dataframe thead th {\n",
       "        text-align: right;\n",
       "    }\n",
       "</style>\n",
       "<table border=\"1\" class=\"dataframe\">\n",
       "  <thead>\n",
       "    <tr style=\"text-align: right;\">\n",
       "      <th></th>\n",
       "      <th>INSTNM</th>\n",
       "      <th>RELAFFIL</th>\n",
       "      <th>UGDS</th>\n",
       "      <th>STABBR</th>\n",
       "    </tr>\n",
       "  </thead>\n",
       "  <tbody>\n",
       "    <tr>\n",
       "      <th>4137</th>\n",
       "      <td>University of Wyoming</td>\n",
       "      <td>0</td>\n",
       "      <td>9910.0</td>\n",
       "      <td>WY</td>\n",
       "    </tr>\n",
       "    <tr>\n",
       "      <th>5817</th>\n",
       "      <td>American Public University System</td>\n",
       "      <td>0</td>\n",
       "      <td>44924.0</td>\n",
       "      <td>WV</td>\n",
       "    </tr>\n",
       "    <tr>\n",
       "      <th>4123</th>\n",
       "      <td>University of Wisconsin-Madison</td>\n",
       "      <td>0</td>\n",
       "      <td>29302.0</td>\n",
       "      <td>WI</td>\n",
       "    </tr>\n",
       "    <tr>\n",
       "      <th>4008</th>\n",
       "      <td>University of Washington-Seattle Campus</td>\n",
       "      <td>0</td>\n",
       "      <td>29468.0</td>\n",
       "      <td>WA</td>\n",
       "    </tr>\n",
       "    <tr>\n",
       "      <th>3849</th>\n",
       "      <td>University of Vermont</td>\n",
       "      <td>0</td>\n",
       "      <td>9958.0</td>\n",
       "      <td>VT</td>\n",
       "    </tr>\n",
       "    <tr>\n",
       "      <th>4216</th>\n",
       "      <td>University of the Virgin Islands</td>\n",
       "      <td>0</td>\n",
       "      <td>1971.0</td>\n",
       "      <td>VI</td>\n",
       "    </tr>\n",
       "    <tr>\n",
       "      <th>3880</th>\n",
       "      <td>Liberty University</td>\n",
       "      <td>1</td>\n",
       "      <td>49340.0</td>\n",
       "      <td>VA</td>\n",
       "    </tr>\n",
       "    <tr>\n",
       "      <th>5140</th>\n",
       "      <td>Western Governors University</td>\n",
       "      <td>0</td>\n",
       "      <td>44499.0</td>\n",
       "      <td>UT</td>\n",
       "    </tr>\n",
       "    <tr>\n",
       "      <th>3711</th>\n",
       "      <td>Lone Star College System</td>\n",
       "      <td>0</td>\n",
       "      <td>59920.0</td>\n",
       "      <td>TX</td>\n",
       "    </tr>\n",
       "    <tr>\n",
       "      <th>3592</th>\n",
       "      <td>The University of Tennessee-Knoxville</td>\n",
       "      <td>0</td>\n",
       "      <td>21396.0</td>\n",
       "      <td>TN</td>\n",
       "    </tr>\n",
       "  </tbody>\n",
       "</table>\n",
       "</div>"
      ],
      "text/plain": [
       "                                       INSTNM  RELAFFIL     UGDS STABBR\n",
       "4137                    University of Wyoming         0   9910.0     WY\n",
       "5817        American Public University System         0  44924.0     WV\n",
       "4123          University of Wisconsin-Madison         0  29302.0     WI\n",
       "4008  University of Washington-Seattle Campus         0  29468.0     WA\n",
       "3849                    University of Vermont         0   9958.0     VT\n",
       "4216         University of the Virgin Islands         0   1971.0     VI\n",
       "3880                       Liberty University         1  49340.0     VA\n",
       "5140             Western Governors University         0  44499.0     UT\n",
       "3711                 Lone Star College System         0  59920.0     TX\n",
       "3592    The University of Tennessee-Knoxville         0  21396.0     TN"
      ]
     },
     "execution_count": 113,
     "metadata": {},
     "output_type": "execute_result"
    }
   ],
   "source": [
    "#주별\n",
    "college3.sort_values(['STABBR', 'UGDS'], ascending=False).drop_duplicates(subset='STABBR').head(10)"
   ]
  },
  {
   "cell_type": "code",
   "execution_count": 112,
   "metadata": {},
   "outputs": [
    {
     "data": {
      "text/html": [
       "<div>\n",
       "<style scoped>\n",
       "    .dataframe tbody tr th:only-of-type {\n",
       "        vertical-align: middle;\n",
       "    }\n",
       "\n",
       "    .dataframe tbody tr th {\n",
       "        vertical-align: top;\n",
       "    }\n",
       "\n",
       "    .dataframe thead th {\n",
       "        text-align: right;\n",
       "    }\n",
       "</style>\n",
       "<table border=\"1\" class=\"dataframe\">\n",
       "  <thead>\n",
       "    <tr style=\"text-align: right;\">\n",
       "      <th></th>\n",
       "      <th>INSTNM</th>\n",
       "      <th>RELAFFIL</th>\n",
       "      <th>UGDS</th>\n",
       "      <th>STABBR</th>\n",
       "    </tr>\n",
       "  </thead>\n",
       "  <tbody>\n",
       "    <tr>\n",
       "      <th>3880</th>\n",
       "      <td>Liberty University</td>\n",
       "      <td>1</td>\n",
       "      <td>49340.0</td>\n",
       "      <td>VA</td>\n",
       "    </tr>\n",
       "    <tr>\n",
       "      <th>7116</th>\n",
       "      <td>University of Phoenix-Arizona</td>\n",
       "      <td>0</td>\n",
       "      <td>151558.0</td>\n",
       "      <td>AZ</td>\n",
       "    </tr>\n",
       "  </tbody>\n",
       "</table>\n",
       "</div>"
      ],
      "text/plain": [
       "                             INSTNM  RELAFFIL      UGDS STABBR\n",
       "3880             Liberty University         1   49340.0     VA\n",
       "7116  University of Phoenix-Arizona         0  151558.0     AZ"
      ]
     },
     "execution_count": 112,
     "metadata": {},
     "output_type": "execute_result"
    }
   ],
   "source": [
    "#RELAFFIL 별\n",
    "college3.sort_values(['RELAFFIL', 'UGDS'], ascending=False).drop_duplicates(subset='RELAFFIL')"
   ]
  },
  {
   "cell_type": "code",
   "execution_count": null,
   "metadata": {},
   "outputs": [],
   "source": []
  },
  {
   "cell_type": "code",
   "execution_count": null,
   "metadata": {},
   "outputs": [],
   "source": []
  },
  {
   "cell_type": "code",
   "execution_count": null,
   "metadata": {},
   "outputs": [],
   "source": []
  },
  {
   "cell_type": "markdown",
   "metadata": {},
   "source": [
    "4. 데이터 찾기 시작해보자."
   ]
  },
  {
   "cell_type": "code",
   "execution_count": null,
   "metadata": {},
   "outputs": [],
   "source": []
  },
  {
   "cell_type": "code",
   "execution_count": null,
   "metadata": {},
   "outputs": [],
   "source": []
  },
  {
   "cell_type": "code",
   "execution_count": null,
   "metadata": {},
   "outputs": [],
   "source": []
  },
  {
   "cell_type": "code",
   "execution_count": null,
   "metadata": {},
   "outputs": [],
   "source": []
  },
  {
   "cell_type": "code",
   "execution_count": null,
   "metadata": {},
   "outputs": [],
   "source": []
  },
  {
   "cell_type": "code",
   "execution_count": null,
   "metadata": {},
   "outputs": [],
   "source": []
  },
  {
   "cell_type": "code",
   "execution_count": null,
   "metadata": {},
   "outputs": [],
   "source": []
  },
  {
   "cell_type": "code",
   "execution_count": null,
   "metadata": {},
   "outputs": [],
   "source": []
  }
 ],
 "metadata": {
  "kernelspec": {
   "display_name": "Python 3",
   "language": "python",
   "name": "python3"
  },
  "language_info": {
   "codemirror_mode": {
    "name": "ipython",
    "version": 3
   },
   "file_extension": ".py",
   "mimetype": "text/x-python",
   "name": "python",
   "nbconvert_exporter": "python",
   "pygments_lexer": "ipython3",
   "version": "3.8.5"
  }
 },
 "nbformat": 4,
 "nbformat_minor": 4
}
