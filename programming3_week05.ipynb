{
 "cells": [
  {
   "cell_type": "markdown",
   "metadata": {},
   "source": [
    "1. fueleco column으로 자유롭게 graph"
   ]
  },
  {
   "cell_type": "code",
   "execution_count": 2,
   "metadata": {},
   "outputs": [],
   "source": [
    "import pandas as pd\n",
    "import numpy as np"
   ]
  },
  {
   "cell_type": "code",
   "execution_count": 3,
   "metadata": {},
   "outputs": [
    {
     "name": "stderr",
     "output_type": "stream",
     "text": [
      "C:\\anaconda\\lib\\site-packages\\IPython\\core\\interactiveshell.py:3146: DtypeWarning: Columns (70,71,72,73,74,76,79) have mixed types.Specify dtype option on import or set low_memory=False.\n",
      "  has_raised = await self.run_ast_nodes(code_ast.body, cell_name,\n"
     ]
    },
    {
     "data": {
      "text/plain": [
       "Index(['drive', 'eng_dscr', 'fuelType', 'fuelType1', 'make', 'model',\n",
       "       'mpgData', 'trany', 'VClass', 'guzzler', 'trans_dscr', 'tCharger',\n",
       "       'sCharger', 'atvType', 'fuelType2', 'rangeA', 'evMotor', 'mfrCode',\n",
       "       'c240Dscr', 'c240bDscr', 'createdOn', 'modifiedOn', 'startStop'],\n",
       "      dtype='object')"
      ]
     },
     "execution_count": 3,
     "metadata": {},
     "output_type": "execute_result"
    }
   ],
   "source": [
    "fueleco = pd.read_csv('data/vehicles.csv.zip')\n",
    "\n",
    "fueleco.select_dtypes(object).columns"
   ]
  },
  {
   "cell_type": "code",
   "execution_count": 4,
   "metadata": {},
   "outputs": [
    {
     "data": {
      "text/html": [
       "<div>\n",
       "<style scoped>\n",
       "    .dataframe tbody tr th:only-of-type {\n",
       "        vertical-align: middle;\n",
       "    }\n",
       "\n",
       "    .dataframe tbody tr th {\n",
       "        vertical-align: top;\n",
       "    }\n",
       "\n",
       "    .dataframe thead th {\n",
       "        text-align: right;\n",
       "    }\n",
       "</style>\n",
       "<table border=\"1\" class=\"dataframe\">\n",
       "  <thead>\n",
       "    <tr style=\"text-align: right;\">\n",
       "      <th></th>\n",
       "      <th>count</th>\n",
       "      <th>unique</th>\n",
       "      <th>top</th>\n",
       "      <th>freq</th>\n",
       "    </tr>\n",
       "  </thead>\n",
       "  <tbody>\n",
       "    <tr>\n",
       "      <th>drive</th>\n",
       "      <td>42232</td>\n",
       "      <td>7</td>\n",
       "      <td>Front-Wheel Drive</td>\n",
       "      <td>14776</td>\n",
       "    </tr>\n",
       "    <tr>\n",
       "      <th>eng_dscr</th>\n",
       "      <td>26887</td>\n",
       "      <td>562</td>\n",
       "      <td>(FFS)</td>\n",
       "      <td>8827</td>\n",
       "    </tr>\n",
       "    <tr>\n",
       "      <th>fuelType</th>\n",
       "      <td>43418</td>\n",
       "      <td>14</td>\n",
       "      <td>Regular</td>\n",
       "      <td>27381</td>\n",
       "    </tr>\n",
       "    <tr>\n",
       "      <th>fuelType1</th>\n",
       "      <td>43418</td>\n",
       "      <td>6</td>\n",
       "      <td>Regular Gasoline</td>\n",
       "      <td>28828</td>\n",
       "    </tr>\n",
       "    <tr>\n",
       "      <th>make</th>\n",
       "      <td>43418</td>\n",
       "      <td>139</td>\n",
       "      <td>Chevrolet</td>\n",
       "      <td>4159</td>\n",
       "    </tr>\n",
       "    <tr>\n",
       "      <th>model</th>\n",
       "      <td>43418</td>\n",
       "      <td>4375</td>\n",
       "      <td>F150 Pickup 2WD</td>\n",
       "      <td>226</td>\n",
       "    </tr>\n",
       "    <tr>\n",
       "      <th>mpgData</th>\n",
       "      <td>43400</td>\n",
       "      <td>2</td>\n",
       "      <td>N</td>\n",
       "      <td>29726</td>\n",
       "    </tr>\n",
       "    <tr>\n",
       "      <th>trany</th>\n",
       "      <td>43407</td>\n",
       "      <td>40</td>\n",
       "      <td>Automatic 4-spd</td>\n",
       "      <td>11048</td>\n",
       "    </tr>\n",
       "    <tr>\n",
       "      <th>VClass</th>\n",
       "      <td>43418</td>\n",
       "      <td>34</td>\n",
       "      <td>Compact Cars</td>\n",
       "      <td>6086</td>\n",
       "    </tr>\n",
       "    <tr>\n",
       "      <th>guzzler</th>\n",
       "      <td>2558</td>\n",
       "      <td>3</td>\n",
       "      <td>G</td>\n",
       "      <td>1579</td>\n",
       "    </tr>\n",
       "    <tr>\n",
       "      <th>trans_dscr</th>\n",
       "      <td>15044</td>\n",
       "      <td>52</td>\n",
       "      <td>CLKUP</td>\n",
       "      <td>7809</td>\n",
       "    </tr>\n",
       "    <tr>\n",
       "      <th>tCharger</th>\n",
       "      <td>8143</td>\n",
       "      <td>1</td>\n",
       "      <td>T</td>\n",
       "      <td>8143</td>\n",
       "    </tr>\n",
       "    <tr>\n",
       "      <th>sCharger</th>\n",
       "      <td>916</td>\n",
       "      <td>1</td>\n",
       "      <td>S</td>\n",
       "      <td>916</td>\n",
       "    </tr>\n",
       "    <tr>\n",
       "      <th>atvType</th>\n",
       "      <td>3987</td>\n",
       "      <td>8</td>\n",
       "      <td>FFV</td>\n",
       "      <td>1479</td>\n",
       "    </tr>\n",
       "    <tr>\n",
       "      <th>fuelType2</th>\n",
       "      <td>1731</td>\n",
       "      <td>4</td>\n",
       "      <td>E85</td>\n",
       "      <td>1479</td>\n",
       "    </tr>\n",
       "    <tr>\n",
       "      <th>rangeA</th>\n",
       "      <td>1726</td>\n",
       "      <td>235</td>\n",
       "      <td>290</td>\n",
       "      <td>74</td>\n",
       "    </tr>\n",
       "    <tr>\n",
       "      <th>evMotor</th>\n",
       "      <td>1221</td>\n",
       "      <td>211</td>\n",
       "      <td>288V Ni-MH</td>\n",
       "      <td>138</td>\n",
       "    </tr>\n",
       "    <tr>\n",
       "      <th>mfrCode</th>\n",
       "      <td>12610</td>\n",
       "      <td>50</td>\n",
       "      <td>GMX</td>\n",
       "      <td>1802</td>\n",
       "    </tr>\n",
       "    <tr>\n",
       "      <th>c240Dscr</th>\n",
       "      <td>114</td>\n",
       "      <td>5</td>\n",
       "      <td>standard charger</td>\n",
       "      <td>103</td>\n",
       "    </tr>\n",
       "    <tr>\n",
       "      <th>c240bDscr</th>\n",
       "      <td>108</td>\n",
       "      <td>7</td>\n",
       "      <td>80 amp dual charger</td>\n",
       "      <td>55</td>\n",
       "    </tr>\n",
       "    <tr>\n",
       "      <th>createdOn</th>\n",
       "      <td>43418</td>\n",
       "      <td>356</td>\n",
       "      <td>Tue Jan 01 00:00:00 EST 2013</td>\n",
       "      <td>34194</td>\n",
       "    </tr>\n",
       "    <tr>\n",
       "      <th>modifiedOn</th>\n",
       "      <td>43418</td>\n",
       "      <td>218</td>\n",
       "      <td>Tue Jan 01 00:00:00 EST 2013</td>\n",
       "      <td>29175</td>\n",
       "    </tr>\n",
       "    <tr>\n",
       "      <th>startStop</th>\n",
       "      <td>11729</td>\n",
       "      <td>2</td>\n",
       "      <td>N</td>\n",
       "      <td>7146</td>\n",
       "    </tr>\n",
       "  </tbody>\n",
       "</table>\n",
       "</div>"
      ],
      "text/plain": [
       "            count unique                           top   freq\n",
       "drive       42232      7             Front-Wheel Drive  14776\n",
       "eng_dscr    26887    562                         (FFS)   8827\n",
       "fuelType    43418     14                       Regular  27381\n",
       "fuelType1   43418      6              Regular Gasoline  28828\n",
       "make        43418    139                     Chevrolet   4159\n",
       "model       43418   4375               F150 Pickup 2WD    226\n",
       "mpgData     43400      2                             N  29726\n",
       "trany       43407     40               Automatic 4-spd  11048\n",
       "VClass      43418     34                  Compact Cars   6086\n",
       "guzzler      2558      3                             G   1579\n",
       "trans_dscr  15044     52                         CLKUP   7809\n",
       "tCharger     8143      1                             T   8143\n",
       "sCharger      916      1                             S    916\n",
       "atvType      3987      8                           FFV   1479\n",
       "fuelType2    1731      4                           E85   1479\n",
       "rangeA       1726    235                           290     74\n",
       "evMotor      1221    211                    288V Ni-MH    138\n",
       "mfrCode     12610     50                           GMX   1802\n",
       "c240Dscr      114      5              standard charger    103\n",
       "c240bDscr     108      7           80 amp dual charger     55\n",
       "createdOn   43418    356  Tue Jan 01 00:00:00 EST 2013  34194\n",
       "modifiedOn  43418    218  Tue Jan 01 00:00:00 EST 2013  29175\n",
       "startStop   11729      2                             N   7146"
      ]
     },
     "execution_count": 4,
     "metadata": {},
     "output_type": "execute_result"
    }
   ],
   "source": [
    "fueleco.select_dtypes('object').describe().T"
   ]
  },
  {
   "cell_type": "code",
   "execution_count": 5,
   "metadata": {},
   "outputs": [
    {
     "data": {
      "text/plain": [
       "<AxesSubplot:>"
      ]
     },
     "execution_count": 5,
     "metadata": {},
     "output_type": "execute_result"
    },
    {
     "data": {
      "image/png": "[encoded data removed]",
      "text/plain": [
       "<Figure size 432x288 with 1 Axes>"
      ]
     },
     "metadata": {
      "needs_background": "light"
     },
     "output_type": "display_data"
    }
   ],
   "source": [
    "fueleco.fuelType1.value_counts().plot(kind='bar')"
   ]
  },
  {
   "cell_type": "code",
   "execution_count": 10,
   "metadata": {},
   "outputs": [],
   "source": [
    "import matplotlib.pyplot as plt\n",
    "import seaborn as sns"
   ]
  },
  {
   "cell_type": "code",
   "execution_count": 12,
   "metadata": {},
   "outputs": [
    {
     "data": {
      "text/plain": [
       "<AxesSubplot:xlabel='count', ylabel='atvType'>"
      ]
     },
     "execution_count": 12,
     "metadata": {},
     "output_type": "execute_result"
    },
    {
     "data": {
      "image/png": "[encoded data removed]",
      "text/plain": [
       "<Figure size 720x576 with 1 Axes>"
      ]
     },
     "metadata": {
      "needs_background": "light"
     },
     "output_type": "display_data"
    }
   ],
   "source": [
    "fig, ax = plt.subplots(figsize=(10, 8))\n",
    "sns.countplot(y='atvType', data=(fueleco), order=fueleco.atvType.value_counts().index)"
   ]
  },
  {
   "cell_type": "code",
   "execution_count": 17,
   "metadata": {},
   "outputs": [
    {
     "data": {
      "text/plain": [
       "<AxesSubplot:xlabel='count', ylabel='evMotor'>"
      ]
     },
     "execution_count": 17,
     "metadata": {},
     "output_type": "execute_result"
    },
    {
     "data": {
      "image/png": "[encoded data removed]",
      "text/plain": [
       "<Figure size 720x576 with 1 Axes>"
      ]
     },
     "metadata": {
      "needs_background": "light"
     },
     "output_type": "display_data"
    }
   ],
   "source": [
    "fig, ax = plt.subplots(figsize=(10, 8))\n",
    "top_n = fueleco.evMotor.value_counts().index[:6]\n",
    "sns.countplot(y='evMotor', \n",
    "              data=(fueleco[fueleco.evMotor.isin(top_n)]), \n",
    "              hue='fuelType1', \n",
    "              order=fueleco.evMotor.value_counts().index[:6]\n",
    "             )"
   ]
  },
  {
   "cell_type": "code",
   "execution_count": null,
   "metadata": {},
   "outputs": [],
   "source": []
  },
  {
   "cell_type": "code",
   "execution_count": 20,
   "metadata": {},
   "outputs": [
    {
     "data": {
      "text/html": [
       "<div>\n",
       "<style scoped>\n",
       "    .dataframe tbody tr th:only-of-type {\n",
       "        vertical-align: middle;\n",
       "    }\n",
       "\n",
       "    .dataframe tbody tr th {\n",
       "        vertical-align: top;\n",
       "    }\n",
       "\n",
       "    .dataframe thead th {\n",
       "        text-align: right;\n",
       "    }\n",
       "</style>\n",
       "<table border=\"1\" class=\"dataframe\">\n",
       "  <thead>\n",
       "    <tr style=\"text-align: right;\">\n",
       "      <th></th>\n",
       "      <th>barrels08</th>\n",
       "      <th>barrelsA08</th>\n",
       "      <th>charge120</th>\n",
       "      <th>charge240</th>\n",
       "      <th>city08</th>\n",
       "      <th>city08U</th>\n",
       "      <th>cityA08</th>\n",
       "      <th>cityA08U</th>\n",
       "      <th>cityCD</th>\n",
       "      <th>cityE</th>\n",
       "      <th>...</th>\n",
       "      <th>UCity</th>\n",
       "      <th>UCityA</th>\n",
       "      <th>UHighway</th>\n",
       "      <th>UHighwayA</th>\n",
       "      <th>year</th>\n",
       "      <th>youSaveSpend</th>\n",
       "      <th>charge240b</th>\n",
       "      <th>phevCity</th>\n",
       "      <th>phevHwy</th>\n",
       "      <th>phevComb</th>\n",
       "    </tr>\n",
       "  </thead>\n",
       "  <tbody>\n",
       "    <tr>\n",
       "      <th>count</th>\n",
       "      <td>43418.000000</td>\n",
       "      <td>43418.000000</td>\n",
       "      <td>43418.0</td>\n",
       "      <td>43418.000000</td>\n",
       "      <td>43418.000000</td>\n",
       "      <td>43418.000000</td>\n",
       "      <td>43418.000000</td>\n",
       "      <td>43418.000000</td>\n",
       "      <td>43418.000000</td>\n",
       "      <td>43418.000000</td>\n",
       "      <td>...</td>\n",
       "      <td>43418.000000</td>\n",
       "      <td>43418.000000</td>\n",
       "      <td>43418.000000</td>\n",
       "      <td>43418.000000</td>\n",
       "      <td>43418.000000</td>\n",
       "      <td>43418.000000</td>\n",
       "      <td>43418.000000</td>\n",
       "      <td>43418.000000</td>\n",
       "      <td>43418.000000</td>\n",
       "      <td>43418.000000</td>\n",
       "    </tr>\n",
       "    <tr>\n",
       "      <th>mean</th>\n",
       "      <td>17.132865</td>\n",
       "      <td>0.221869</td>\n",
       "      <td>0.0</td>\n",
       "      <td>0.066276</td>\n",
       "      <td>18.654521</td>\n",
       "      <td>6.916080</td>\n",
       "      <td>0.780805</td>\n",
       "      <td>0.643413</td>\n",
       "      <td>0.000497</td>\n",
       "      <td>0.471792</td>\n",
       "      <td>...</td>\n",
       "      <td>23.613608</td>\n",
       "      <td>1.028003</td>\n",
       "      <td>34.274373</td>\n",
       "      <td>1.270942</td>\n",
       "      <td>2002.536022</td>\n",
       "      <td>-3992.174904</td>\n",
       "      <td>0.014105</td>\n",
       "      <td>0.229836</td>\n",
       "      <td>0.231563</td>\n",
       "      <td>0.229628</td>\n",
       "    </tr>\n",
       "    <tr>\n",
       "      <th>std</th>\n",
       "      <td>4.678481</td>\n",
       "      <td>1.142116</td>\n",
       "      <td>0.0</td>\n",
       "      <td>0.739613</td>\n",
       "      <td>8.750168</td>\n",
       "      <td>12.657711</td>\n",
       "      <td>6.050073</td>\n",
       "      <td>5.939123</td>\n",
       "      <td>0.038230</td>\n",
       "      <td>4.683147</td>\n",
       "      <td>...</td>\n",
       "      <td>12.441254</td>\n",
       "      <td>8.528132</td>\n",
       "      <td>12.460440</td>\n",
       "      <td>8.681490</td>\n",
       "      <td>11.650912</td>\n",
       "      <td>3369.439953</td>\n",
       "      <td>0.301393</td>\n",
       "      <td>3.526150</td>\n",
       "      <td>3.405325</td>\n",
       "      <td>3.449732</td>\n",
       "    </tr>\n",
       "    <tr>\n",
       "      <th>min</th>\n",
       "      <td>0.060000</td>\n",
       "      <td>0.000000</td>\n",
       "      <td>0.0</td>\n",
       "      <td>0.000000</td>\n",
       "      <td>6.000000</td>\n",
       "      <td>0.000000</td>\n",
       "      <td>0.000000</td>\n",
       "      <td>0.000000</td>\n",
       "      <td>0.000000</td>\n",
       "      <td>0.000000</td>\n",
       "      <td>...</td>\n",
       "      <td>0.000000</td>\n",
       "      <td>0.000000</td>\n",
       "      <td>0.000000</td>\n",
       "      <td>0.000000</td>\n",
       "      <td>1984.000000</td>\n",
       "      <td>-29750.000000</td>\n",
       "      <td>0.000000</td>\n",
       "      <td>0.000000</td>\n",
       "      <td>0.000000</td>\n",
       "      <td>0.000000</td>\n",
       "    </tr>\n",
       "    <tr>\n",
       "      <th>25%</th>\n",
       "      <td>14.330870</td>\n",
       "      <td>0.000000</td>\n",
       "      <td>0.0</td>\n",
       "      <td>0.000000</td>\n",
       "      <td>15.000000</td>\n",
       "      <td>0.000000</td>\n",
       "      <td>0.000000</td>\n",
       "      <td>0.000000</td>\n",
       "      <td>0.000000</td>\n",
       "      <td>0.000000</td>\n",
       "      <td>...</td>\n",
       "      <td>18.400000</td>\n",
       "      <td>0.000000</td>\n",
       "      <td>27.751750</td>\n",
       "      <td>0.000000</td>\n",
       "      <td>1992.000000</td>\n",
       "      <td>-6000.000000</td>\n",
       "      <td>0.000000</td>\n",
       "      <td>0.000000</td>\n",
       "      <td>0.000000</td>\n",
       "      <td>0.000000</td>\n",
       "    </tr>\n",
       "    <tr>\n",
       "      <th>50%</th>\n",
       "      <td>16.480500</td>\n",
       "      <td>0.000000</td>\n",
       "      <td>0.0</td>\n",
       "      <td>0.000000</td>\n",
       "      <td>17.000000</td>\n",
       "      <td>0.000000</td>\n",
       "      <td>0.000000</td>\n",
       "      <td>0.000000</td>\n",
       "      <td>0.000000</td>\n",
       "      <td>0.000000</td>\n",
       "      <td>...</td>\n",
       "      <td>21.639950</td>\n",
       "      <td>0.000000</td>\n",
       "      <td>33.300000</td>\n",
       "      <td>0.000000</td>\n",
       "      <td>2003.000000</td>\n",
       "      <td>-4000.000000</td>\n",
       "      <td>0.000000</td>\n",
       "      <td>0.000000</td>\n",
       "      <td>0.000000</td>\n",
       "      <td>0.000000</td>\n",
       "    </tr>\n",
       "  </tbody>\n",
       "</table>\n",
       "<p>6 rows × 59 columns</p>\n",
       "</div>"
      ],
      "text/plain": [
       "          barrels08    barrelsA08  charge120     charge240        city08  \\\n",
       "count  43418.000000  43418.000000    43418.0  43418.000000  43418.000000   \n",
       "mean      17.132865      0.221869        0.0      0.066276     18.654521   \n",
       "std        4.678481      1.142116        0.0      0.739613      8.750168   \n",
       "min        0.060000      0.000000        0.0      0.000000      6.000000   \n",
       "25%       14.330870      0.000000        0.0      0.000000     15.000000   \n",
       "50%       16.480500      0.000000        0.0      0.000000     17.000000   \n",
       "\n",
       "            city08U       cityA08      cityA08U        cityCD         cityE  \\\n",
       "count  43418.000000  43418.000000  43418.000000  43418.000000  43418.000000   \n",
       "mean       6.916080      0.780805      0.643413      0.000497      0.471792   \n",
       "std       12.657711      6.050073      5.939123      0.038230      4.683147   \n",
       "min        0.000000      0.000000      0.000000      0.000000      0.000000   \n",
       "25%        0.000000      0.000000      0.000000      0.000000      0.000000   \n",
       "50%        0.000000      0.000000      0.000000      0.000000      0.000000   \n",
       "\n",
       "       ...         UCity        UCityA      UHighway     UHighwayA  \\\n",
       "count  ...  43418.000000  43418.000000  43418.000000  43418.000000   \n",
       "mean   ...     23.613608      1.028003     34.274373      1.270942   \n",
       "std    ...     12.441254      8.528132     12.460440      8.681490   \n",
       "min    ...      0.000000      0.000000      0.000000      0.000000   \n",
       "25%    ...     18.400000      0.000000     27.751750      0.000000   \n",
       "50%    ...     21.639950      0.000000     33.300000      0.000000   \n",
       "\n",
       "               year  youSaveSpend    charge240b      phevCity       phevHwy  \\\n",
       "count  43418.000000  43418.000000  43418.000000  43418.000000  43418.000000   \n",
       "mean    2002.536022  -3992.174904      0.014105      0.229836      0.231563   \n",
       "std       11.650912   3369.439953      0.301393      3.526150      3.405325   \n",
       "min     1984.000000 -29750.000000      0.000000      0.000000      0.000000   \n",
       "25%     1992.000000  -6000.000000      0.000000      0.000000      0.000000   \n",
       "50%     2003.000000  -4000.000000      0.000000      0.000000      0.000000   \n",
       "\n",
       "           phevComb  \n",
       "count  43418.000000  \n",
       "mean       0.229628  \n",
       "std        3.449732  \n",
       "min        0.000000  \n",
       "25%        0.000000  \n",
       "50%        0.000000  \n",
       "\n",
       "[6 rows x 59 columns]"
      ]
     },
     "execution_count": 20,
     "metadata": {},
     "output_type": "execute_result"
    }
   ],
   "source": [
    "fueleco.select_dtypes(include = 'number').describe().head(6)"
   ]
  },
  {
   "cell_type": "markdown",
   "metadata": {},
   "source": [
    "2. 수치형 데이터선택해서 spearman correlation 시각화"
   ]
  },
  {
   "cell_type": "code",
   "execution_count": 32,
   "metadata": {},
   "outputs": [
    {
     "data": {
      "text/plain": [
       "<AxesSubplot:>"
      ]
     },
     "execution_count": 32,
     "metadata": {},
     "output_type": "execute_result"
    },
    {
     "data": {
      "image/png": "[encoded data removed]",
      "text/plain": [
       "<Figure size 576x576 with 2 Axes>"
      ]
     },
     "metadata": {
      "needs_background": "light"
     },
     "output_type": "display_data"
    }
   ],
   "source": [
    "fig, ax = plt.subplots(figsize=(8, 8))\n",
    "corr = fueleco[['UCityA', 'UHighwayA', 'UHighway']].corr()\n",
    "\n",
    "mask = np.zeros_like(corr, dtype=np.bool)\n",
    "mask[np.triu_indices_from(mask)] = True\n",
    "sns.heatmap(corr, mask=mask, fmt='.2f', annot=True, ax=ax, cmap='RdBu', vmin=-1, vmax=1, square=True)"
   ]
  },
  {
   "cell_type": "code",
   "execution_count": null,
   "metadata": {},
   "outputs": [],
   "source": []
  }
 ],
 "metadata": {
  "kernelspec": {
   "display_name": "Python 3",
   "language": "python",
   "name": "python3"
  },
  "language_info": {
   "codemirror_mode": {
    "name": "ipython",
    "version": 3
   },
   "file_extension": ".py",
   "mimetype": "text/x-python",
   "name": "python",
   "nbconvert_exporter": "python",
   "pygments_lexer": "ipython3",
   "version": "3.8.5"
  }
 },
 "nbformat": 4,
 "nbformat_minor": 4
}
